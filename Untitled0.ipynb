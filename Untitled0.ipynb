{
  "nbformat": 4,
  "nbformat_minor": 0,
  "metadata": {
    "colab": {
      "provenance": [],
      "authorship_tag": "ABX9TyMl+Gu5ySZFoB2xUTXT2B9e",
      "include_colab_link": true
    },
    "kernelspec": {
      "name": "python3",
      "display_name": "Python 3"
    },
    "language_info": {
      "name": "python"
    }
  },
  "cells": [
    {
      "cell_type": "markdown",
      "metadata": {
        "id": "view-in-github",
        "colab_type": "text"
      },
      "source": [
        "<a href=\"https://colab.research.google.com/github/penteler/mpcov/blob/main/Untitled0.ipynb\" target=\"_parent\"><img src=\"https://colab.research.google.com/assets/colab-badge.svg\" alt=\"Open In Colab\"/></a>"
      ]
    },
    {
      "cell_type": "code",
      "execution_count": null,
      "metadata": {
        "id": "9rwuUxiPzUNB",
        "colab": {
          "base_uri": "https://localhost:8080/"
        },
        "outputId": "82ec9857-52a6-4a52-e435-9468d78814e1"
      },
      "outputs": [
        {
          "output_type": "stream",
          "name": "stdout",
          "text": [
            "oneGood\n",
            "twoRoot\n",
            "threeBeer\n",
            "alright Good Root Beer in that order\n"
          ]
        }
      ],
      "source": [
        "def xHnd(additive, tiny, there):\n",
        "  if additive == \"good\":\n",
        "    print(\"nnice\")\n",
        "  elif additive == \"badbadbadbad\":\n",
        "    print (\"yyyukprintuyyyukpuk\")\n",
        "  else:\n",
        "    print(\"alright\", inPo, inPt, inPe, \"in that order\")\n",
        "inPo= input(\"one\")\n",
        "inPt= input(\"two\")\n",
        "inPe= input(\"three\")\n",
        "xHnd(inPo, inPt, inPe)"
      ]
    },
    {
      "cell_type": "code",
      "source": [
        "def neTy(ysFs):\n",
        "  import random\n",
        "  ysFs=random.randint(69,100)\n",
        "  print (\"your number is \", ysFs)\n",
        "  if ysFs==69:\n",
        "   print(\"Ha\")\n",
        "for n in range(2):\n",
        "  neTy(70)\n",
        "  if ysFs== 70:\n",
        "   break"
      ],
      "metadata": {
        "colab": {
          "base_uri": "https://localhost:8080/"
        },
        "id": "QEbFSwk8TNbO",
        "outputId": "ab67f4bb-69ad-4c1c-bd10-7ff09a11f6df"
      },
      "execution_count": null,
      "outputs": [
        {
          "output_type": "stream",
          "name": "stdout",
          "text": [
            "your number is  81\n",
            "your number is  100\n"
          ]
        }
      ]
    },
    {
      "cell_type": "code",
      "source": [
        "def neTy(ysFs, niUt, voWa):\n",
        "\n",
        "  print (\"your number is \", ysFs, \"with\", niUt, \"and\", voWa)\n",
        "  if ysFs==69:\n",
        "   print(\"Ha\")\n",
        "vxDa=input(\"the\")\n",
        "pkJy=input(\"three\")\n",
        "edTd=input(\"numbers\")\n",
        "neTy(vxDa,pkJy,edTd)"
      ],
      "metadata": {
        "colab": {
          "base_uri": "https://localhost:8080/"
        },
        "id": "QFMH_AffsDkE",
        "outputId": "1780d5ea-fa9d-4541-d29a-50bdbc64cab9"
      },
      "execution_count": null,
      "outputs": [
        {
          "output_type": "stream",
          "name": "stdout",
          "text": [
            "the8\n",
            "three0\n",
            "numbers7\n",
            "your number is  8 with 0 and 7\n"
          ]
        }
      ]
    },
    {
      "cell_type": "code",
      "source": [
        "def kfOd(b):\n",
        "  import random\n",
        "  xBi=\"\"\n",
        "  for n in range(b):\n",
        "    xBi+=str(random.randint(0,9))\n",
        "  return xBi\n",
        "cnJo=kfOd(4)\n",
        "print(cnJo)"
      ],
      "metadata": {
        "colab": {
          "base_uri": "https://localhost:8080/"
        },
        "id": "O-Ud3hdJYmpA",
        "outputId": "747dc36d-79dd-4981-b075-d20470b707c3"
      },
      "execution_count": null,
      "outputs": [
        {
          "output_type": "stream",
          "name": "stdout",
          "text": [
            "8047\n"
          ]
        }
      ]
    },
    {
      "cell_type": "code",
      "source": [
        "def ifUt(k,j):\n",
        "  I= 0.5*k*j\n",
        "  return I\n",
        "I=ifUt(6,2)\n",
        "print(I)"
      ],
      "metadata": {
        "colab": {
          "base_uri": "https://localhost:8080/"
        },
        "id": "Fimz9enVb1w6",
        "outputId": "f6cefab5-4d36-4acd-bd05-662d3f6bc889"
      },
      "execution_count": null,
      "outputs": [
        {
          "output_type": "stream",
          "name": "stdout",
          "text": [
            "6.0\n"
          ]
        }
      ]
    },
    {
      "cell_type": "code",
      "source": [
        "import random, os, time\n",
        "def rlDe(sde):\n",
        "  rsUt=random.randint(1,sde)\n",
        "  return rsUt\n",
        "def heAh():\n",
        "  heAhs = ((rlDe(6)*rlDe(12))/2)+10\n",
        "  return heAhs\n",
        "def seRh():\n",
        "  stAs = ((rlDe(6)*rlDe(8))/2)+12\n",
        "  return stAs\n",
        "\n",
        "while True:\n",
        "  print(\"whatever we don't actually have actually objective here\")\n",
        "  print()\n",
        "  clSn = input(\"Carlson\")\n",
        "  anVr = input(\"category:\\n\")\n",
        "  print(clSn)\n",
        "  print(\"first one: \", heAh())\n",
        "  print(\"second: \",seRh())\n",
        "  quIt =input(\"quit? \")\n",
        "  if quIt==\"yes\":\n",
        "    break\n",
        "  time.sleep(1)\n",
        "  os.system(\"clear\")"
      ],
      "metadata": {
        "colab": {
          "base_uri": "https://localhost:8080/"
        },
        "id": "v6itjBnHzV3j",
        "outputId": "d0d42ab1-c77e-41f5-ade2-456e85faddc3"
      },
      "execution_count": null,
      "outputs": [
        {
          "name": "stdout",
          "output_type": "stream",
          "text": [
            "whatever we don't actually have actually objective here\n",
            "\n",
            "CarlsonDid\n",
            "category:\n",
            "Did\n",
            "Did\n",
            "first one:  13.0\n",
            "second:  18.0\n",
            "quit? Ni\n",
            "whatever we don't actually have actually objective here\n",
            "\n",
            "CarlsonDid\n",
            "category:\n",
            "This\n",
            "Did\n",
            "first one:  28.0\n",
            "second:  24.5\n",
            "quit? yes\n"
          ]
        }
      ]
    },
    {
      "cell_type": "code",
      "source": [
        "import os, time\n",
        "print('\\033[?25l', end=\"\")\n",
        "for b in range(1,999999999):\n",
        "  print(b)\n",
        "  time.sleep(15)\n",
        "  os.system('clear')"
      ],
      "metadata": {
        "colab": {
          "base_uri": "https://localhost:8080/",
          "height": 384
        },
        "id": "n7uAw481ozmm",
        "outputId": "25ba21c4-4f62-4958-be58-f2a347a57666"
      },
      "execution_count": null,
      "outputs": [
        {
          "output_type": "stream",
          "name": "stdout",
          "text": [
            "\u001b[?25l1\n",
            "2\n",
            "3\n"
          ]
        },
        {
          "output_type": "error",
          "ename": "KeyboardInterrupt",
          "evalue": "ignored",
          "traceback": [
            "\u001b[0;31m---------------------------------------------------------------------------\u001b[0m",
            "\u001b[0;31mKeyboardInterrupt\u001b[0m                         Traceback (most recent call last)",
            "\u001b[0;32m<ipython-input-7-cced1e598964>\u001b[0m in \u001b[0;36m<cell line: 3>\u001b[0;34m()\u001b[0m\n\u001b[1;32m      3\u001b[0m \u001b[0;32mfor\u001b[0m \u001b[0mb\u001b[0m \u001b[0;32min\u001b[0m \u001b[0mrange\u001b[0m\u001b[0;34m(\u001b[0m\u001b[0;36m1\u001b[0m\u001b[0;34m,\u001b[0m\u001b[0;36m999999999\u001b[0m\u001b[0;34m)\u001b[0m\u001b[0;34m:\u001b[0m\u001b[0;34m\u001b[0m\u001b[0;34m\u001b[0m\u001b[0m\n\u001b[1;32m      4\u001b[0m   \u001b[0mprint\u001b[0m\u001b[0;34m(\u001b[0m\u001b[0mb\u001b[0m\u001b[0;34m)\u001b[0m\u001b[0;34m\u001b[0m\u001b[0;34m\u001b[0m\u001b[0m\n\u001b[0;32m----> 5\u001b[0;31m   \u001b[0mtime\u001b[0m\u001b[0;34m.\u001b[0m\u001b[0msleep\u001b[0m\u001b[0;34m(\u001b[0m\u001b[0;36m15\u001b[0m\u001b[0;34m)\u001b[0m\u001b[0;34m\u001b[0m\u001b[0;34m\u001b[0m\u001b[0m\n\u001b[0m\u001b[1;32m      6\u001b[0m   \u001b[0mos\u001b[0m\u001b[0;34m.\u001b[0m\u001b[0msystem\u001b[0m\u001b[0;34m(\u001b[0m\u001b[0;34m'clear'\u001b[0m\u001b[0;34m)\u001b[0m\u001b[0;34m\u001b[0m\u001b[0;34m\u001b[0m\u001b[0m\n",
            "\u001b[0;31mKeyboardInterrupt\u001b[0m: "
          ]
        }
      ]
    },
    {
      "cell_type": "code",
      "source": [
        "def nvSp(riNh,shEh):\n",
        "  if riNh==\"suHi\":\n",
        "    print(\"\\033[31m\",shEh, sep=\"\", end=\"\")\n",
        "  else:\n",
        "    print(\"\\033[0m\",shEh, sep=\"\", end=\"\")\n",
        "print(\"dng for\")\n",
        "print(\"what is \", end=\"\")\n",
        "nvSp(\"suHi\", \"this colour\")\n",
        "nvSp(\"giRm\", \" is it red\")"
      ],
      "metadata": {
        "colab": {
          "base_uri": "https://localhost:8080/"
        },
        "id": "3TJqF7mcwfgZ",
        "outputId": "74dccab1-65c6-476e-b34b-63fa3f39042e"
      },
      "execution_count": null,
      "outputs": [
        {
          "output_type": "stream",
          "name": "stdout",
          "text": [
            "dng for\n",
            "what is \u001b[31mthis colour\u001b[0m is it red"
          ]
        }
      ]
    },
    {
      "cell_type": "code",
      "source": [
        "Dude=\"one\"\n",
        "Number=\"7\"\n",
        "Swords=\"many\"\n",
        "print(\"special {Dude} for the {Number}th time has {Swords} blades.\".format(Dude=Swords, Number=Dude, Swords=Number))"
      ],
      "metadata": {
        "colab": {
          "base_uri": "https://localhost:8080/"
        },
        "id": "LOFIVvIRwf9b",
        "outputId": "b76e18ef-6e32-40ac-a6c2-622b1625d0fd"
      },
      "execution_count": null,
      "outputs": [
        {
          "output_type": "stream",
          "name": "stdout",
          "text": [
            "special many for the oneth time has 7 blades.\n"
          ]
        }
      ]
    },
    {
      "cell_type": "code",
      "source": [
        "Tha=\"thi\"\n",
        "Why=\"that's\"\n",
        "Enjoy=\"this\"\n",
        "\n",
        "You=f\"\"\"Mai {Tha}, {Why} the problem not {Enjoy}.\n",
        "The problem {Why} now not a problem {Tha} is {Enjoy}.\"\"\"\n",
        "print(You)"
      ],
      "metadata": {
        "colab": {
          "base_uri": "https://localhost:8080/"
        },
        "id": "NvHwucJWS7Ep",
        "outputId": "a2186a1e-5be9-4bd4-afb4-64d5adb77744"
      },
      "execution_count": null,
      "outputs": [
        {
          "output_type": "stream",
          "name": "stdout",
          "text": [
            "Mai thi, that's the problem not this.\n",
            "The problem that's now not a problem thi is this.\n"
          ]
        }
      ]
    },
    {
      "cell_type": "code",
      "source": [
        "for k in range(1,31):\n",
        "  print(f\"Diva {k: ^3} from 100\")"
      ],
      "metadata": {
        "colab": {
          "base_uri": "https://localhost:8080/"
        },
        "id": "IZYdYUaqXXNs",
        "outputId": "39a57643-04f1-4929-e288-82671d6dd22b"
      },
      "execution_count": null,
      "outputs": [
        {
          "output_type": "stream",
          "name": "stdout",
          "text": [
            "Diva  1  from 100\n",
            "Diva  2  from 100\n",
            "Diva  3  from 100\n",
            "Diva  4  from 100\n",
            "Diva  5  from 100\n",
            "Diva  6  from 100\n",
            "Diva  7  from 100\n",
            "Diva  8  from 100\n",
            "Diva  9  from 100\n",
            "Diva 10  from 100\n",
            "Diva 11  from 100\n",
            "Diva 12  from 100\n",
            "Diva 13  from 100\n",
            "Diva 14  from 100\n",
            "Diva 15  from 100\n",
            "Diva 16  from 100\n",
            "Diva 17  from 100\n",
            "Diva 18  from 100\n",
            "Diva 19  from 100\n",
            "Diva 20  from 100\n",
            "Diva 21  from 100\n",
            "Diva 22  from 100\n",
            "Diva 23  from 100\n",
            "Diva 24  from 100\n",
            "Diva 25  from 100\n",
            "Diva 26  from 100\n",
            "Diva 27  from 100\n",
            "Diva 28  from 100\n",
            "Diva 29  from 100\n",
            "Diva 30  from 100\n"
          ]
        }
      ]
    },
    {
      "cell_type": "code",
      "source": [
        "print (\"glad Flag for you\")\n",
        "for h in range(1,50):\n",
        "  H =input(f\"Day {h}:\\n\")\n",
        "  N=f\"day {h} was\"\n",
        "  print(f\"{N:^35}\")\n",
        "  print(f\"{H:^35}\")"
      ],
      "metadata": {
        "colab": {
          "base_uri": "https://localhost:8080/",
          "height": 807
        },
        "id": "eoy8p1cy-4Nt",
        "outputId": "fa2be639-9bdf-4fee-89bb-1460c7b8656f"
      },
      "execution_count": null,
      "outputs": [
        {
          "output_type": "stream",
          "name": "stdout",
          "text": [
            "glad Flag for you\n",
            "Day 1:\n",
            "Flight house\n",
            "             day 1 was             \n",
            "           Flight house            \n"
          ]
        },
        {
          "output_type": "error",
          "ename": "KeyboardInterrupt",
          "evalue": "ignored",
          "traceback": [
            "\u001b[0;31m---------------------------------------------------------------------------\u001b[0m",
            "\u001b[0;31mKeyboardInterrupt\u001b[0m                         Traceback (most recent call last)",
            "\u001b[0;32m<ipython-input-4-5b343394b341>\u001b[0m in \u001b[0;36m<cell line: 2>\u001b[0;34m()\u001b[0m\n\u001b[1;32m      1\u001b[0m \u001b[0mprint\u001b[0m \u001b[0;34m(\u001b[0m\u001b[0;34m\"glad Flag for you\"\u001b[0m\u001b[0;34m)\u001b[0m\u001b[0;34m\u001b[0m\u001b[0;34m\u001b[0m\u001b[0m\n\u001b[1;32m      2\u001b[0m \u001b[0;32mfor\u001b[0m \u001b[0mh\u001b[0m \u001b[0;32min\u001b[0m \u001b[0mrange\u001b[0m\u001b[0;34m(\u001b[0m\u001b[0;36m1\u001b[0m\u001b[0;34m,\u001b[0m\u001b[0;36m50\u001b[0m\u001b[0;34m)\u001b[0m\u001b[0;34m:\u001b[0m\u001b[0;34m\u001b[0m\u001b[0;34m\u001b[0m\u001b[0m\n\u001b[0;32m----> 3\u001b[0;31m   \u001b[0mH\u001b[0m \u001b[0;34m=\u001b[0m\u001b[0minput\u001b[0m\u001b[0;34m(\u001b[0m\u001b[0;34mf\"Day {h}:\\n\"\u001b[0m\u001b[0;34m)\u001b[0m\u001b[0;34m\u001b[0m\u001b[0;34m\u001b[0m\u001b[0m\n\u001b[0m\u001b[1;32m      4\u001b[0m   \u001b[0mN\u001b[0m\u001b[0;34m=\u001b[0m\u001b[0;34mf\"day {h} was\"\u001b[0m\u001b[0;34m\u001b[0m\u001b[0;34m\u001b[0m\u001b[0m\n\u001b[1;32m      5\u001b[0m   \u001b[0mprint\u001b[0m\u001b[0;34m(\u001b[0m\u001b[0;34mf\"{N:^35}\"\u001b[0m\u001b[0;34m)\u001b[0m\u001b[0;34m\u001b[0m\u001b[0;34m\u001b[0m\u001b[0m\n",
            "\u001b[0;32m/usr/local/lib/python3.10/dist-packages/ipykernel/kernelbase.py\u001b[0m in \u001b[0;36mraw_input\u001b[0;34m(self, prompt)\u001b[0m\n\u001b[1;32m    849\u001b[0m                 \u001b[0;34m\"raw_input was called, but this frontend does not support input requests.\"\u001b[0m\u001b[0;34m\u001b[0m\u001b[0;34m\u001b[0m\u001b[0m\n\u001b[1;32m    850\u001b[0m             )\n\u001b[0;32m--> 851\u001b[0;31m         return self._input_request(str(prompt),\n\u001b[0m\u001b[1;32m    852\u001b[0m             \u001b[0mself\u001b[0m\u001b[0;34m.\u001b[0m\u001b[0m_parent_ident\u001b[0m\u001b[0;34m,\u001b[0m\u001b[0;34m\u001b[0m\u001b[0;34m\u001b[0m\u001b[0m\n\u001b[1;32m    853\u001b[0m             \u001b[0mself\u001b[0m\u001b[0;34m.\u001b[0m\u001b[0m_parent_header\u001b[0m\u001b[0;34m,\u001b[0m\u001b[0;34m\u001b[0m\u001b[0;34m\u001b[0m\u001b[0m\n",
            "\u001b[0;32m/usr/local/lib/python3.10/dist-packages/ipykernel/kernelbase.py\u001b[0m in \u001b[0;36m_input_request\u001b[0;34m(self, prompt, ident, parent, password)\u001b[0m\n\u001b[1;32m    893\u001b[0m             \u001b[0;32mexcept\u001b[0m \u001b[0mKeyboardInterrupt\u001b[0m\u001b[0;34m:\u001b[0m\u001b[0;34m\u001b[0m\u001b[0;34m\u001b[0m\u001b[0m\n\u001b[1;32m    894\u001b[0m                 \u001b[0;31m# re-raise KeyboardInterrupt, to truncate traceback\u001b[0m\u001b[0;34m\u001b[0m\u001b[0;34m\u001b[0m\u001b[0m\n\u001b[0;32m--> 895\u001b[0;31m                 \u001b[0;32mraise\u001b[0m \u001b[0mKeyboardInterrupt\u001b[0m\u001b[0;34m(\u001b[0m\u001b[0;34m\"Interrupted by user\"\u001b[0m\u001b[0;34m)\u001b[0m \u001b[0;32mfrom\u001b[0m \u001b[0;32mNone\u001b[0m\u001b[0;34m\u001b[0m\u001b[0;34m\u001b[0m\u001b[0m\n\u001b[0m\u001b[1;32m    896\u001b[0m             \u001b[0;32mexcept\u001b[0m \u001b[0mException\u001b[0m \u001b[0;32mas\u001b[0m \u001b[0me\u001b[0m\u001b[0;34m:\u001b[0m\u001b[0;34m\u001b[0m\u001b[0;34m\u001b[0m\u001b[0m\n\u001b[1;32m    897\u001b[0m                 \u001b[0mself\u001b[0m\u001b[0;34m.\u001b[0m\u001b[0mlog\u001b[0m\u001b[0;34m.\u001b[0m\u001b[0mwarning\u001b[0m\u001b[0;34m(\u001b[0m\u001b[0;34m\"Invalid Message:\"\u001b[0m\u001b[0;34m,\u001b[0m \u001b[0mexc_info\u001b[0m\u001b[0;34m=\u001b[0m\u001b[0;32mTrue\u001b[0m\u001b[0;34m)\u001b[0m\u001b[0;34m\u001b[0m\u001b[0;34m\u001b[0m\u001b[0m\n",
            "\u001b[0;31mKeyboardInterrupt\u001b[0m: Interrupted by user"
          ]
        }
      ]
    },
    {
      "cell_type": "code",
      "source": [
        "def coCh(coLo):\n",
        "  if coLo==\"suHe\":\n",
        "    return (\"\\033[31m\")\n",
        "  elif coLo==\"chIt\":\n",
        "    return (\"\\033[0m\")\n",
        "tiTl =f\"{coCh('suHe')}\"\n",
        "tiTl"
      ],
      "metadata": {
        "id": "j3ZDG8QFnNbU",
        "colab": {
          "base_uri": "https://localhost:8080/",
          "height": 35
        },
        "outputId": "ba923fec-c901-4fea-97fa-1a8e2059b6ec"
      },
      "execution_count": null,
      "outputs": [
        {
          "output_type": "execute_result",
          "data": {
            "text/plain": [
              "'\\x1b[31m'"
            ],
            "application/vnd.google.colaboratory.intrinsic+json": {
              "type": "string"
            }
          },
          "metadata": {},
          "execution_count": 2
        }
      ]
    },
    {
      "cell_type": "code",
      "source": [
        "pip install streamlit"
      ],
      "metadata": {
        "colab": {
          "base_uri": "https://localhost:8080/",
          "height": 158
        },
        "id": "RHuCDdqmkGU9",
        "outputId": "df750157-eb21-4240-d21b-820e33183597"
      },
      "execution_count": null,
      "outputs": [
        {
          "output_type": "error",
          "ename": "SyntaxError",
          "evalue": "ignored",
          "traceback": [
            "\u001b[0;36m  File \u001b[0;32m\"<ipython-input-3-e1a84db9e4eb>\"\u001b[0;36m, line \u001b[0;32m1\u001b[0m\n\u001b[0;31m    pip install streamlit\u001b[0m\n\u001b[0m        ^\u001b[0m\n\u001b[0;31mSyntaxError\u001b[0m\u001b[0;31m:\u001b[0m invalid syntax\n"
          ]
        }
      ]
    },
    {
      "cell_type": "code",
      "source": [
        "import streamlit as st\n",
        "st.set_page_config(page_title=\"webpage\", page_icon=\"🎸\")"
      ],
      "metadata": {
        "id": "N6sHpSa7k3iL"
      },
      "execution_count": null,
      "outputs": []
    }
  ]
}